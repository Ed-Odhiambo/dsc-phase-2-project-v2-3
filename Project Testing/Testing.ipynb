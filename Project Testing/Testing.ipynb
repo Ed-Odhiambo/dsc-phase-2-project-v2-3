{
 "cells": [
  {
   "attachments": {},
   "cell_type": "markdown",
   "metadata": {},
   "source": [
    "# Project Title"
   ]
  },
  {
   "attachments": {},
   "cell_type": "markdown",
   "metadata": {},
   "source": [
    "## Formulated questions"
   ]
  },
  {
   "attachments": {},
   "cell_type": "markdown",
   "metadata": {},
   "source": [
    "Business Overview \n",
    "Introduction\n",
    "Challenges\n",
    "Proposed Solution\n",
    "Conclusion\n",
    "\n",
    "Problem Statement\n",
    "Objectives (Question format; To ….)\n",
    "\n",
    "Data Understanding\n",
    "Columns, Datasets, Source for more data/data mine.\n",
    "\n",
    "Data Cleaning (missing, duplicate outliers, consistent row naming, criteria for dropping or imputing missing data/outliers)\n",
    "Data Analysis\n",
    "Patterns\n",
    "\n",
    "Modeling\n",
    "Multiple Linear Regression, Other relevant models, tune models where possible\n",
    "Metrics of success; accuracy, RMSE, classification report\n",
    "\n",
    "Conclusion(s)\n",
    "\n",
    "Recommendations\n",
    "\n",
    "Next Steps\n"
   ]
  },
  {
   "attachments": {},
   "cell_type": "markdown",
   "metadata": {},
   "source": [
    "Question: For this project, you will use multiple linear regression modeling to analyze house sales in a northwestern county\n",
    "\n",
    "If you are struggling to define a stakeholder, we recommend you complete a project for a real estate agency that helps homeowners buy and/or sell homes. A business problem you could focus on for this stakeholder is the need to provide advice to homeowners about how home renovations might increase the estimated value of their homes, and by what amount.\n",
    "\n"
   ]
  },
  {
   "attachments": {},
   "cell_type": "markdown",
   "metadata": {},
   "source": [
    "## Business Overview\n",
    "## Will your home renovations pay off?"
   ]
  },
  {
   "attachments": {},
   "cell_type": "markdown",
   "metadata": {},
   "source": [
    ">> **Introduction**\n",
    "\n",
    "* In this project, the task is to undertake research on property market in King County and to determine the best price for the houses within the neighbourhoods for a real estate agency.\n",
    "\n",
    "* The objective of this project is to utilize multiple linear regression modeling to evaluate house sales data in King County Washington, USA. The aim is to gain insights and make predictions about the factors that affect house sales in the area as well as lucrative neighbourhoods to invest in while using statistical techniques to support relevant recommendations.\n",
    "\n",
    "* Remodeling certain areas of a property is an excellent way for homeowners to add increased functionality and beauty to a property at someone else's expense. By choosing the right project to enhance your living space, a significant portion of the expense can be passed on to future owners in the form of increased property values\n"
   ]
  },
  {
   "attachments": {},
   "cell_type": "markdown",
   "metadata": {},
   "source": [
    ">> **Business Problem / Problem Statement**\n",
    "\n",
    "The real estate agency needs to provide advice to homeowners regarding how home renovations can potentially increase the estimated value of their properties and homes and by what amount. This information will assist the real estate agency in advising their clients about how to make informed decisions regarding home renovations, and in turn, assist homeowners in maximizing the return on their investment when selling their properties.\n"
   ]
  },
  {
   "attachments": {},
   "cell_type": "markdown",
   "metadata": {},
   "source": [
    ">> **Proposal**\n",
    "\n",
    "* We will focus on analysing house sales in a northwestern county for a possible stakeholder, a real estate agency helping homeowners buy and/or sell homes. Specifically, we will address the business problem of providing homeowners advice on how home renovations can increase the estimated value of their homes and by what amount.\n",
    "\n",
    "* \n",
    "\n"
   ]
  },
  {
   "attachments": {},
   "cell_type": "markdown",
   "metadata": {},
   "source": [
    "## Data Understanding"
   ]
  },
  {
   "attachments": {},
   "cell_type": "markdown",
   "metadata": {},
   "source": [
    "* This project uses the King County House Sales dataset, which can be found in \"kc_house_data.csv\"\n",
    "\n",
    "* One of the challenges that may arise in this project is the incomplete or ambiguous description of the column names in the dataset. However, with thorough research or good judgment, we can understand the data and make informed decisions on which variables to use in our analysis. \n",
    "\n",
    "* Another challenge is ensuring that the linear regression model we develop adds value to our analysis, rather than simply fulfilling the project's requirement. \n",
    "\n",
    "* The dataset includes information on house sales in King County such as the prices, the design, the size in square footages, the location etc. Others can be found at ['Property Schema'](https://github.com/learn-co-curriculum/dsc-phase-2-project-v2-3/blob/main/data/column_names.md)\n",
    "\n",
    "* ???Where are renovations generally undertaken in property???"
   ]
  },
  {
   "attachments": {},
   "cell_type": "markdown",
   "metadata": {},
   "source": [
    "## Data Preparation"
   ]
  },
  {
   "cell_type": "code",
   "execution_count": null,
   "metadata": {},
   "outputs": [],
   "source": []
  },
  {
   "cell_type": "code",
   "execution_count": null,
   "metadata": {},
   "outputs": [],
   "source": []
  },
  {
   "cell_type": "code",
   "execution_count": null,
   "metadata": {},
   "outputs": [],
   "source": []
  },
  {
   "attachments": {},
   "cell_type": "markdown",
   "metadata": {},
   "source": [
    ">> **Recommendations**\n",
    "\n",
    "* Development of a comprehensive database the agency can use to track the renovation projects that would improve property value and, we must demonstrate an iterative app"
   ]
  },
  {
   "attachments": {},
   "cell_type": "markdown",
   "metadata": {},
   "source": [
    "```*Challenges in the market*```\n",
    "\n",
    "* *What are the problems in the market and what are we trying to solve.*\n",
    "* What are the best performing properties in the market?\n",
    "* What is the general structure of the property?\n",
    "* When were these houses built?\n",
    "* Competition from other real estate agencies\n",
    "\n",
    "* The agency seeks to improve on their income depending on what properties to invest in and what is ideal for the clients to buy.\n",
    "* Advicing homeowners on how renovation might potentially increase the "
   ]
  }
 ],
 "metadata": {
  "kernelspec": {
   "display_name": "learn-env",
   "language": "python",
   "name": "python3"
  },
  "language_info": {
   "name": "python",
   "version": "3.10.9"
  },
  "orig_nbformat": 4
 },
 "nbformat": 4,
 "nbformat_minor": 2
}
